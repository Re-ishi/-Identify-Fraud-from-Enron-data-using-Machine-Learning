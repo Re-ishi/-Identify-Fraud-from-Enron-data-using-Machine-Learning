{
 "cells": [
  {
   "cell_type": "code",
   "execution_count": 4,
   "metadata": {},
   "outputs": [],
   "source": [
    "#!/usr/bin/python\n",
    "\n",
    "import sys\n",
    "import pickle\n",
    "sys.path.append(\"../tools/\")\n",
    "import numpy as np\n",
    "import pandas as pd\n",
    "import matplotlib.pyplot as plt\n",
    "import seaborn as sns\n",
    "\n",
    "from feature_format import featureFormat, targetFeatureSplit\n",
    "from tester import test_classifier, dump_classifier_and_data"
   ]
  },
  {
   "cell_type": "code",
   "execution_count": 5,
   "metadata": {
    "collapsed": true
   },
   "outputs": [],
   "source": [
    "### Task 1: Select what features you'll use.\n",
    "### features_list is a list of strings, each of which is a feature name.\n",
    "### The first feature must be \"poi\".\n",
    "\n",
    "features_list = ['poi'] # Will need to use more features\n",
    "\n",
    "financial_features = ['salary', 'deferral_payments', 'total_payments', 'bonus', 'restricted_stock',\\\n",
    "                      'restricted_stock_deferred', 'total_stock_value', 'director_fees', 'deferred_income',\\\n",
    "                      'expenses', 'loan_advances', 'exercised_stock_options', 'other',\\\n",
    "                      'long_term_incentive']\n",
    "\n",
    "email_features = ['to_messages', 'from_messages', 'from_poi_to_this_person', 'from_this_person_to_poi',\\\n",
    "                  'shared_receipt_with_poi']\n",
    "\n",
    "all_features = ['poi', 'email_address', 'salary', 'to_messages', 'deferral_payments',\\\n",
    "                'total_payments','exercised_stock_options', 'bonus', 'restricted_stock',\\\n",
    "                'shared_receipt_with_poi', 'restricted_stock_deferred', 'total_stock_value',\\\n",
    "                'expenses', 'loan_advances', 'from_messages', 'other', 'from_this_person_to_poi',\\\n",
    "                'director_fees', 'deferred_income','long_term_incentive', 'from_poi_to_this_person']\n"
   ]
  },
  {
   "cell_type": "code",
   "execution_count": 51,
   "metadata": {
    "collapsed": true
   },
   "outputs": [],
   "source": [
    "### Load the dictionary containing the dataset\n",
    "with open(\"final_project_dataset.pkl\", \"r\") as data_file:\n",
    "    data_dict = pickle.load(data_file)"
   ]
  },
  {
   "cell_type": "code",
   "execution_count": 52,
   "metadata": {},
   "outputs": [
    {
     "name": "stdout",
     "output_type": "stream",
     "text": [
      "Total number of Data points are  146\n",
      "Total number of Features are  21\n",
      "Total number of POIs are  18\n"
     ]
    }
   ],
   "source": [
    "### Task 2: Remove outliers\n",
    "\n",
    "tot_data_points = len(data_dict)\n",
    "tot_features = len(data_dict[data_dict.keys()[0]])\n",
    "tot_poi = 0\n",
    "for d in data_dict.values():\n",
    "    if d['poi'] == 1:\n",
    "        tot_poi += 1\n",
    "\n",
    "print \"Total number of Data points are \", tot_data_points\n",
    "print \"Total number of Features are \", tot_features\n",
    "print \"Total number of POIs are \", tot_poi"
   ]
  },
  {
   "cell_type": "code",
   "execution_count": 53,
   "metadata": {},
   "outputs": [
    {
     "data": {
      "image/png": "[encoded data removed]",
      "text/plain": [
       "<matplotlib.figure.Figure at 0xdc14ad0>"
      ]
     },
     "metadata": {},
     "output_type": "display_data"
    }
   ],
   "source": [
    "features = [\"salary\", \"bonus\"]\n",
    "\n",
    "data = featureFormat(data_dict, features)\n",
    "\n",
    "# plot salary vs bonus\n",
    "\n",
    "for point in data:\n",
    "    salary = point[0]\n",
    "    bonus = point[1]\n",
    "    plt.scatter( salary, bonus )\n",
    "\n",
    "plt.xlabel(\"salary\")\n",
    "plt.ylabel(\"bonus\")\n",
    "plt.show()"
   ]
  },
  {
   "cell_type": "code",
   "execution_count": 54,
   "metadata": {
    "collapsed": true
   },
   "outputs": [],
   "source": [
    "# Remove 'TOTAL'\n",
    "df = pd.DataFrame.from_dict(data_dict, orient='index')\n",
    "df = df.drop('TOTAL')"
   ]
  },
  {
   "cell_type": "code",
   "execution_count": 55,
   "metadata": {
    "collapsed": true
   },
   "outputs": [],
   "source": [
    "# deal with NaNs\n",
    "df = df.replace('NaN', np.nan)\n",
    "\n",
    "# Replace NaNs of financial feature with 0\n",
    "df[financial_features] = df[financial_features].fillna(0)\n",
    "\n",
    "# Replace NaNs of email feature with it's median\n",
    "df[email_features] = df[email_features].fillna(df[email_features].median())"
   ]
  },
  {
   "cell_type": "code",
   "execution_count": 40,
   "metadata": {},
   "outputs": [
    {
     "name": "stdout",
     "output_type": "stream",
     "text": [
      "                       salary  to_messages  deferral_payments  total_payments  \\\n",
      "KAMINSKI WINCENTY J  275101.0       4607.0                0.0       1086821.0   \n",
      "KEAN STEVEN J        404338.0      12754.0                0.0       1747522.0   \n",
      "SHAPIRO RICHARD S    269076.0      15149.0                0.0       1057548.0   \n",
      "\n",
      "                     exercised_stock_options      bonus  restricted_stock  \\\n",
      "KAMINSKI WINCENTY J                 850010.0   400000.0          126027.0   \n",
      "KEAN STEVEN J                      2022048.0  1000000.0         4131594.0   \n",
      "SHAPIRO RICHARD S                   607837.0   650000.0          379164.0   \n",
      "\n",
      "                     shared_receipt_with_poi  restricted_stock_deferred  \\\n",
      "KAMINSKI WINCENTY J                    583.0                        0.0   \n",
      "KEAN STEVEN J                         3639.0                        0.0   \n",
      "SHAPIRO RICHARD S                     4527.0                        0.0   \n",
      "\n",
      "                     total_stock_value           ...            loan_advances  \\\n",
      "KAMINSKI WINCENTY J           976037.0           ...                      0.0   \n",
      "KEAN STEVEN J                6153642.0           ...                      0.0   \n",
      "SHAPIRO RICHARD S             987001.0           ...                      0.0   \n",
      "\n",
      "                     from_messages   other  from_this_person_to_poi    poi  \\\n",
      "KAMINSKI WINCENTY J        14368.0  4669.0                    171.0  False   \n",
      "KEAN STEVEN J               6759.0  1231.0                    387.0  False   \n",
      "SHAPIRO RICHARD S           1215.0   705.0                     65.0  False   \n",
      "\n",
      "                     director_fees  deferred_income  long_term_incentive  \\\n",
      "KAMINSKI WINCENTY J            0.0              0.0             323466.0   \n",
      "KEAN STEVEN J                  0.0              0.0             300000.0   \n",
      "SHAPIRO RICHARD S              0.0              0.0                  0.0   \n",
      "\n",
      "                                 email_address from_poi_to_this_person  \n",
      "KAMINSKI WINCENTY J   vince.kaminski@enron.com                    41.0  \n",
      "KEAN STEVEN J            steven.kean@enron.com                   140.0  \n",
      "SHAPIRO RICHARD S    richard.shapiro@enron.com                    74.0  \n",
      "\n",
      "[3 rows x 21 columns]\n"
     ]
    }
   ],
   "source": [
    "# who are those outlier records\n",
    "email_outliers = df[np.logical_or(df.from_messages > 6000, df.to_messages > 10000)]\n",
    "print(email_outliers)"
   ]
  },
  {
   "cell_type": "code",
   "execution_count": 56,
   "metadata": {
    "collapsed": true
   },
   "outputs": [],
   "source": [
    "#Remove the outlier records(records which are not characteristic of a typical employee)\n",
    "\n",
    "df = df[df.from_messages < 6000]\n",
    "df = df[df.to_messages < 10000]\n"
   ]
  },
  {
   "cell_type": "code",
   "execution_count": 57,
   "metadata": {
    "collapsed": true
   },
   "outputs": [],
   "source": [
    "### Task 3: Create new feature(s)\n",
    "### Store to my_dataset for easy export below.\n",
    "df['fraction_to_poi'] = df.from_this_person_to_poi / df.from_messages\n",
    "df['fraction_from_poi'] = df.from_poi_to_this_person / df.to_messages\n",
    "\n",
    "my_dataset = df.to_dict('index')"
   ]
  },
  {
   "cell_type": "code",
   "execution_count": 58,
   "metadata": {
    "collapsed": true
   },
   "outputs": [],
   "source": [
    "### Extract features and labels from dataset for local testing\n",
    "my_features_list = features_list + email_features + financial_features\n",
    "updated_features_list = my_features_list + ['fraction_to_poi', 'fraction_from_poi']\n",
    "data = featureFormat(my_dataset, updated_features_list, sort_keys = True)\n",
    "labels, features = targetFeatureSplit(data)"
   ]
  },
  {
   "cell_type": "code",
   "execution_count": 59,
   "metadata": {
    "collapsed": true
   },
   "outputs": [],
   "source": [
    "# Scale the features\n",
    "from sklearn.preprocessing import MinMaxScaler\n",
    "\n",
    "scaler = MinMaxScaler()\n",
    "features = scaler.fit_transform(features)"
   ]
  },
  {
   "cell_type": "code",
   "execution_count": 60,
   "metadata": {},
   "outputs": [
    {
     "name": "stdout",
     "output_type": "stream",
     "text": [
      "Best features:\n",
      "[('exercised_stock_options', 24.740741755486567), ('total_stock_value', 24.376824998085763), ('bonus', 20.983121489541126), ('salary', 19.451967509669792), ('fraction_to_poi', 12.271728536115715), ('deferred_income', 11.321486775141773), ('shared_receipt_with_poi', 10.388901632115788), ('long_term_incentive', 9.936044522585096), ('restricted_stock', 9.7342175020536441), ('total_payments', 8.744374917030548), ('expenses', 7.1997829085576326), ('loan_advances', 7.1253824688830658), ('from_poi_to_this_person', 4.5182065211382376), ('to_messages', 4.0999157444317822), ('other', 4.0886658318595988), ('from_this_person_to_poi', 3.5564006211527417), ('director_fees', 2.1453342495720524), ('fraction_from_poi', 1.5164456158569719), ('deferral_payments', 0.23236805825462264), ('restricted_stock_deferred', 0.066023245366865962), ('from_messages', 0.010020814293397391)]\n"
     ]
    },
    {
     "data": {
      "image/png": "[encoded data removed]",
      "text/plain": [
       "<matplotlib.figure.Figure at 0xe2ea690>"
      ]
     },
     "metadata": {},
     "output_type": "display_data"
    },
    {
     "name": "stdout",
     "output_type": "stream",
     "text": [
      "['poi', 'exercised_stock_options', 'total_stock_value', 'bonus', 'salary']\n"
     ]
    }
   ],
   "source": [
    "from sklearn.feature_selection import SelectKBest\n",
    "from sklearn.feature_selection import f_classif\n",
    "k=4\n",
    "selecter = SelectKBest(f_classif, k)\n",
    "selecter.fit_transform(features, labels)\n",
    "print(\"Best features:\")\n",
    "sc = zip(updated_features_list[1:],selecter.scores_)\n",
    "sorted_sc = sorted(sc, key = lambda x: x[1], reverse=True)\n",
    "print sorted_sc\n",
    "xvals = list()\n",
    "yvals = list()\n",
    "for i in range(len(sorted_sc)):\n",
    "    xvals.append(sorted_sc[i][0])\n",
    "    yvals.append(sorted_sc[i][1])\n",
    "sns_obj = sns.barplot(x=xvals,y=yvals,color='blue')\n",
    "for item in sns_obj.get_xticklabels():\n",
    "    item.set_rotation(90)\n",
    "plt.show()\n",
    "\n",
    "fab_four_with_poi = ['poi'] + list(map(lambda x: x[0], sorted_sc))[0:k]\n",
    "print(fab_four_with_poi)"
   ]
  },
  {
   "cell_type": "code",
   "execution_count": 61,
   "metadata": {
    "collapsed": true
   },
   "outputs": [],
   "source": [
    "data = featureFormat(my_dataset, fab_four_with_poi, sort_keys = True)\n",
    "labels, features = targetFeatureSplit(data)\n",
    "\n",
    "data_with_new = featureFormat(my_dataset, fab_four_with_poi + ['fraction_to_poi', 'fraction_from_poi'], sort_keys = True)\n",
    "labels_new, features_new = targetFeatureSplit(data_with_new)\n",
    "features_new = scaler.fit_transform(features_new)"
   ]
  },
  {
   "cell_type": "code",
   "execution_count": 49,
   "metadata": {},
   "outputs": [
    {
     "name": "stdout",
     "output_type": "stream",
     "text": [
      "Evaluate naive bayes model\n",
      "GaussianNB(priors=None)\n",
      "\tAccuracy: 0.84908\tPrecision: 0.51464\tRecall: 0.33400\tF1: 0.40509\tF2: 0.35922\n",
      "\tTotal predictions: 13000\tTrue positives:  668\tFalse positives:  630\tFalse negatives: 1332\tTrue negatives: 10370\n",
      "\n",
      "Evaluate naive bayes model with added features:\n",
      "GaussianNB(priors=None)\n",
      "\tAccuracy: 0.85173\tPrecision: 0.42884\tRecall: 0.33750\tF1: 0.37773\tF2: 0.35252\n",
      "\tTotal predictions: 15000\tTrue positives:  675\tFalse positives:  899\tFalse negatives: 1325\tTrue negatives: 12101\n",
      "\n"
     ]
    }
   ],
   "source": [
    "from sklearn import naive_bayes    \n",
    "from sklearn.grid_search import GridSearchCV\n",
    "nb_clf = naive_bayes.GaussianNB()\n",
    "nb_param = {}\n",
    "nb_grid_search = GridSearchCV(nb_clf, nb_param)\n",
    "print(\"Evaluate naive bayes model\")\n",
    "test_classifier(nb_clf, my_dataset, fab_four_with_poi)\n",
    "print(\"Evaluate naive bayes model with added features:\")\n",
    "test_classifier(nb_clf, my_dataset, fab_four_with_poi + ['fraction_to_poi', 'fraction_from_poi'])\n",
    "#Evaluate naive bayes model\n",
    "#Accuracy: 0.84908\n",
    "#Precision: 0.51464\n",
    "#Recall: 0.33400\n",
    "#Evaluate naive bayes model with added features:\n",
    "#Accuracy: 0.85173\n",
    "#Precision: 0.42884\n",
    "#Recall: 0.33750\n",
    "\n",
    "#from sklearn import linear_model\n",
    "#from sklearn.pipeline import Pipeline\n",
    "#from sklearn import preprocessing\n",
    "#from sklearn.grid_search import GridSearchCV\n",
    "\n",
    "#lo_clf = Pipeline(steps=[\n",
    "#        ('scaler', preprocessing.StandardScaler()),\n",
    "#        ('classifier', linear_model.LogisticRegression())])\n",
    "       \n",
    "#lo_param = {'classifier__tol': [1, 0.1, 0.01, 0.001, 0.0001], \\\n",
    "#            'classifier__C': [0.1, 0.01, 0.001, 0.0001]}\n",
    "#lo_grid_search = GridSearchCV(lo_clf, lo_param)\n",
    "#print(\"Evaluate logistic regression model\")\n",
    "#test_classifier(lo_grid_search, my_dataset, fab_four_with_poi)\n",
    "#print 'Best parameters:'\n",
    "#print lo_grid_search.best_params_\n",
    "#eval_clf(lo_grid_search, features, labels, lo_param)\n",
    "#Accuracy: 0.85000\n",
    "#Precision: 0.53894\n",
    "#Recall: 0.17300\n",
    "#Best parameters\n",
    "#{'classifier__C': 0.01, 'classifier__tol': 1}\n",
    "\n",
    "#from sklearn import tree\n",
    "#dt_clf = tree.DecisionTreeClassifier()\n",
    "#parameters = {'criterion': ['gini', 'entropy'],\n",
    "#               'min_samples_split': [2, 10, 20],\n",
    "#               'max_depth': [None, 2, 5, 10],\n",
    "#               'min_samples_leaf': [1, 5, 10],\n",
    "#               'max_leaf_nodes': [None, 5, 10, 20]}\n",
    "#grid_search = GridSearchCV(dt_clf, parameters)\n",
    "#print(\"Evaluate Decision Tree model\")\n",
    "#test_classifier(grid_search, my_dataset, fab_four_with_poi)\n",
    "#print 'Feature importances:'\n",
    "#print grid_search.feature_importances_\n",
    "#print 'Best parameters:'\n",
    "#print grid_search.best_params_\n",
    "#Accuracy: 0.81923\n",
    "#Precision: 0.12446\n",
    "#Recall: 0.02900\n",
    "#Best parameters\n",
    "#{'min_samples_split': 2, 'max_leaf_nodes': None, 'criterion': 'gini', 'max_depth': None, 'min_samples_leaf': 10}\n",
    "\n",
    "\n",
    "#from sklearn.ensemble import AdaBoostClassifier\n",
    "#clf = AdaBoostClassifier()\n",
    "#parameters = {'n_estimators': [10, 20, 30, 40, 50],\n",
    "#              'algorithm': ['SAMME', 'SAMME.R'],\n",
    "#              'learning_rate': [.5,.8, 1, 1.2, 1.5]}\n",
    "#grid_search = GridSearchCV(clf, parameters)\n",
    "#print(\"Evaluate AdaBoost model\")\n",
    "#test_classifier(grid_search, my_dataset, fab_four_with_poi)\n",
    "#print 'Best parameters:'\n",
    "#print grid_search.best_params_\n",
    "#Accuracy: 0.83023\n",
    "#Precision: 0.37979\n",
    "#Recall: 0.16350\n",
    "#Best parameters:\n",
    "#{'n_estimators': 10, 'learning_rate': 1, 'algorithm': 'SAMME'}\n",
    "\n",
    "\n",
    "### Task 5: Tune your classifier to achieve better than .3 precision and recall \n",
    "### using our testing script. Check the tester.py script in the final project\n",
    "### folder for details on the evaluation method, especially the test_classifier\n",
    "### function. Because of the small size of the dataset, the script uses\n",
    "### stratified shuffle split cross validation. For more info: \n",
    "### http://scikit-learn.org/stable/modules/generated/sklearn.cross_validation.StratifiedShuffleSplit.html"
   ]
  },
  {
   "cell_type": "code",
   "execution_count": 63,
   "metadata": {
    "collapsed": true
   },
   "outputs": [],
   "source": [
    "from sklearn import naive_bayes\n",
    "clf = naive_bayes.GaussianNB()\n",
    "final_features_list = fab_four_with_poi + ['fraction_to_poi', 'fraction_from_poi']\n",
    "\n",
    "\n",
    "### Task 6: Dump your classifier, dataset, and features_list so anyone can\n",
    "### check your results. You do not need to change anything below, but make sure\n",
    "### that the version of poi_id.py that you submit can be run on its own and\n",
    "### generates the necessary .pkl files for validating your results.\n",
    "dump_classifier_and_data(clf, my_dataset, final_features_list)"
   ]
  },
  {
   "cell_type": "code",
   "execution_count": null,
   "metadata": {
    "collapsed": true
   },
   "outputs": [],
   "source": []
  }
 ],
 "metadata": {
  "kernelspec": {
   "display_name": "Python 2",
   "language": "python",
   "name": "python2"
  },
  "language_info": {
   "codemirror_mode": {
    "name": "ipython",
    "version": 2
   },
   "file_extension": ".py",
   "mimetype": "text/x-python",
   "name": "python",
   "nbconvert_exporter": "python",
   "pygments_lexer": "ipython2",
   "version": "2.7.13"
  }
 },
 "nbformat": 4,
 "nbformat_minor": 2
}
